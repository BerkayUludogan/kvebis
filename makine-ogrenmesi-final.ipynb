{
 "cells": [
  {
   "cell_type": "code",
   "execution_count": 1,
   "id": "064f4590",
   "metadata": {
    "execution": {
     "iopub.execute_input": "2024-05-21T09:04:34.366106Z",
     "iopub.status.busy": "2024-05-21T09:04:34.365235Z",
     "iopub.status.idle": "2024-05-21T09:04:37.005264Z",
     "shell.execute_reply": "2024-05-21T09:04:37.004005Z"
    },
    "papermill": {
     "duration": 2.651604,
     "end_time": "2024-05-21T09:04:37.007992",
     "exception": false,
     "start_time": "2024-05-21T09:04:34.356388",
     "status": "completed"
    },
    "tags": []
   },
   "outputs": [],
   "source": [
    "import pandas as pd\n",
    "import seaborn as sns\n",
    "\n",
    "import matplotlib.pyplot as mp\n",
    "\n",
    "from sklearn.neighbors import KNeighborsClassifier\n",
    "from sklearn.model_selection import train_test_split\n",
    "from sklearn.metrics import accuracy_score\n",
    "\n",
    "\n",
    "\n"
   ]
  },
  {
   "cell_type": "markdown",
   "id": "f9a87714",
   "metadata": {
    "_kg_hide-input": true,
    "papermill": {
     "duration": 0.005685,
     "end_time": "2024-05-21T09:04:37.019909",
     "exception": false,
     "start_time": "2024-05-21T09:04:37.014224",
     "status": "completed"
    },
    "tags": []
   },
   "source": [
    "* import pandas as pd //  Veri okumak için kullanılır.\n",
    "* import seaborn as sns //  İstatistiksel grafikler oluşturmak için kullanılır.\n",
    "* import matplotlib.pyplot as mp // Grafik çizimi için kullanılır.\n",
    "* from sklearn.neighbors import KNeighborsClassifier // Sınıflandırma modeli oluşturmak için kullanılır.\n",
    "* from sklearn.model_selection import train_test_split //Veriyi eğitim ve test setlerine ayırmak için kullanılır.\n",
    "* from sklearn.metrics import accuracy_score // Modelin doğruluğunu hesaplamak için kullanılır.\n",
    "\n",
    "\n",
    "\n",
    "\n",
    "\n",
    "\n"
   ]
  },
  {
   "cell_type": "code",
   "execution_count": 2,
   "id": "c829d0d8",
   "metadata": {
    "execution": {
     "iopub.execute_input": "2024-05-21T09:04:37.033871Z",
     "iopub.status.busy": "2024-05-21T09:04:37.033265Z",
     "iopub.status.idle": "2024-05-21T09:04:37.058236Z",
     "shell.execute_reply": "2024-05-21T09:04:37.057191Z"
    },
    "papermill": {
     "duration": 0.034542,
     "end_time": "2024-05-21T09:04:37.060706",
     "exception": false,
     "start_time": "2024-05-21T09:04:37.026164",
     "status": "completed"
    },
    "tags": []
   },
   "outputs": [],
   "source": [
    "dataset = pd.read_csv('/kaggle/input/iris-flower-dataset/IRIS.csv')"
   ]
  },
  {
   "cell_type": "code",
   "execution_count": 3,
   "id": "88c2ceda",
   "metadata": {
    "execution": {
     "iopub.execute_input": "2024-05-21T09:04:37.074729Z",
     "iopub.status.busy": "2024-05-21T09:04:37.073991Z",
     "iopub.status.idle": "2024-05-21T09:04:37.105323Z",
     "shell.execute_reply": "2024-05-21T09:04:37.104241Z"
    },
    "papermill": {
     "duration": 0.040845,
     "end_time": "2024-05-21T09:04:37.107632",
     "exception": false,
     "start_time": "2024-05-21T09:04:37.066787",
     "status": "completed"
    },
    "tags": []
   },
   "outputs": [
    {
     "data": {
      "text/html": [
       "<div>\n",
       "<style scoped>\n",
       "    .dataframe tbody tr th:only-of-type {\n",
       "        vertical-align: middle;\n",
       "    }\n",
       "\n",
       "    .dataframe tbody tr th {\n",
       "        vertical-align: top;\n",
       "    }\n",
       "\n",
       "    .dataframe thead th {\n",
       "        text-align: right;\n",
       "    }\n",
       "</style>\n",
       "<table border=\"1\" class=\"dataframe\">\n",
       "  <thead>\n",
       "    <tr style=\"text-align: right;\">\n",
       "      <th></th>\n",
       "      <th>sepal_length</th>\n",
       "      <th>sepal_width</th>\n",
       "      <th>petal_length</th>\n",
       "      <th>petal_width</th>\n",
       "      <th>species</th>\n",
       "    </tr>\n",
       "  </thead>\n",
       "  <tbody>\n",
       "    <tr>\n",
       "      <th>0</th>\n",
       "      <td>5.1</td>\n",
       "      <td>3.5</td>\n",
       "      <td>1.4</td>\n",
       "      <td>0.2</td>\n",
       "      <td>Iris-setosa</td>\n",
       "    </tr>\n",
       "    <tr>\n",
       "      <th>1</th>\n",
       "      <td>4.9</td>\n",
       "      <td>3.0</td>\n",
       "      <td>1.4</td>\n",
       "      <td>0.2</td>\n",
       "      <td>Iris-setosa</td>\n",
       "    </tr>\n",
       "    <tr>\n",
       "      <th>2</th>\n",
       "      <td>4.7</td>\n",
       "      <td>3.2</td>\n",
       "      <td>1.3</td>\n",
       "      <td>0.2</td>\n",
       "      <td>Iris-setosa</td>\n",
       "    </tr>\n",
       "    <tr>\n",
       "      <th>3</th>\n",
       "      <td>4.6</td>\n",
       "      <td>3.1</td>\n",
       "      <td>1.5</td>\n",
       "      <td>0.2</td>\n",
       "      <td>Iris-setosa</td>\n",
       "    </tr>\n",
       "    <tr>\n",
       "      <th>4</th>\n",
       "      <td>5.0</td>\n",
       "      <td>3.6</td>\n",
       "      <td>1.4</td>\n",
       "      <td>0.2</td>\n",
       "      <td>Iris-setosa</td>\n",
       "    </tr>\n",
       "    <tr>\n",
       "      <th>...</th>\n",
       "      <td>...</td>\n",
       "      <td>...</td>\n",
       "      <td>...</td>\n",
       "      <td>...</td>\n",
       "      <td>...</td>\n",
       "    </tr>\n",
       "    <tr>\n",
       "      <th>145</th>\n",
       "      <td>6.7</td>\n",
       "      <td>3.0</td>\n",
       "      <td>5.2</td>\n",
       "      <td>2.3</td>\n",
       "      <td>Iris-virginica</td>\n",
       "    </tr>\n",
       "    <tr>\n",
       "      <th>146</th>\n",
       "      <td>6.3</td>\n",
       "      <td>2.5</td>\n",
       "      <td>5.0</td>\n",
       "      <td>1.9</td>\n",
       "      <td>Iris-virginica</td>\n",
       "    </tr>\n",
       "    <tr>\n",
       "      <th>147</th>\n",
       "      <td>6.5</td>\n",
       "      <td>3.0</td>\n",
       "      <td>5.2</td>\n",
       "      <td>2.0</td>\n",
       "      <td>Iris-virginica</td>\n",
       "    </tr>\n",
       "    <tr>\n",
       "      <th>148</th>\n",
       "      <td>6.2</td>\n",
       "      <td>3.4</td>\n",
       "      <td>5.4</td>\n",
       "      <td>2.3</td>\n",
       "      <td>Iris-virginica</td>\n",
       "    </tr>\n",
       "    <tr>\n",
       "      <th>149</th>\n",
       "      <td>5.9</td>\n",
       "      <td>3.0</td>\n",
       "      <td>5.1</td>\n",
       "      <td>1.8</td>\n",
       "      <td>Iris-virginica</td>\n",
       "    </tr>\n",
       "  </tbody>\n",
       "</table>\n",
       "<p>150 rows × 5 columns</p>\n",
       "</div>"
      ],
      "text/plain": [
       "     sepal_length  sepal_width  petal_length  petal_width         species\n",
       "0             5.1          3.5           1.4          0.2     Iris-setosa\n",
       "1             4.9          3.0           1.4          0.2     Iris-setosa\n",
       "2             4.7          3.2           1.3          0.2     Iris-setosa\n",
       "3             4.6          3.1           1.5          0.2     Iris-setosa\n",
       "4             5.0          3.6           1.4          0.2     Iris-setosa\n",
       "..            ...          ...           ...          ...             ...\n",
       "145           6.7          3.0           5.2          2.3  Iris-virginica\n",
       "146           6.3          2.5           5.0          1.9  Iris-virginica\n",
       "147           6.5          3.0           5.2          2.0  Iris-virginica\n",
       "148           6.2          3.4           5.4          2.3  Iris-virginica\n",
       "149           5.9          3.0           5.1          1.8  Iris-virginica\n",
       "\n",
       "[150 rows x 5 columns]"
      ]
     },
     "execution_count": 3,
     "metadata": {},
     "output_type": "execute_result"
    }
   ],
   "source": [
    "dataset"
   ]
  },
  {
   "cell_type": "code",
   "execution_count": 4,
   "id": "25d2b3ad",
   "metadata": {
    "execution": {
     "iopub.execute_input": "2024-05-21T09:04:37.122192Z",
     "iopub.status.busy": "2024-05-21T09:04:37.121396Z",
     "iopub.status.idle": "2024-05-21T09:04:37.402154Z",
     "shell.execute_reply": "2024-05-21T09:04:37.401058Z"
    },
    "papermill": {
     "duration": 0.290785,
     "end_time": "2024-05-21T09:04:37.404492",
     "exception": false,
     "start_time": "2024-05-21T09:04:37.113707",
     "status": "completed"
    },
    "tags": []
   },
   "outputs": [
    {
     "data": {
      "image/png": "[encoded data removed]",
      "text/plain": [
       "<Figure size 640x480 with 1 Axes>"
      ]
     },
     "metadata": {},
     "output_type": "display_data"
    }
   ],
   "source": [
    "sns.countplot(x='species', hue='species', data=dataset)\n",
    "mp.show()"
   ]
  },
  {
   "cell_type": "code",
   "execution_count": 5,
   "id": "38f3b232",
   "metadata": {
    "execution": {
     "iopub.execute_input": "2024-05-21T09:04:37.419940Z",
     "iopub.status.busy": "2024-05-21T09:04:37.419252Z",
     "iopub.status.idle": "2024-05-21T09:04:37.760905Z",
     "shell.execute_reply": "2024-05-21T09:04:37.760074Z"
    },
    "papermill": {
     "duration": 0.352149,
     "end_time": "2024-05-21T09:04:37.763220",
     "exception": false,
     "start_time": "2024-05-21T09:04:37.411071",
     "status": "completed"
    },
    "tags": []
   },
   "outputs": [
    {
     "data": {
      "image/png": "[encoded data removed]",
      "text/plain": [
       "<Figure size 640x480 with 1 Axes>"
      ]
     },
     "metadata": {},
     "output_type": "display_data"
    }
   ],
   "source": [
    "sns.scatterplot(x='sepal_length',y='sepal_width',hue='species',data=dataset)\n",
    "mp.show()"
   ]
  },
  {
   "cell_type": "code",
   "execution_count": 6,
   "id": "d5226aeb",
   "metadata": {
    "execution": {
     "iopub.execute_input": "2024-05-21T09:04:37.780015Z",
     "iopub.status.busy": "2024-05-21T09:04:37.779546Z",
     "iopub.status.idle": "2024-05-21T09:04:38.101819Z",
     "shell.execute_reply": "2024-05-21T09:04:38.100902Z"
    },
    "papermill": {
     "duration": 0.333368,
     "end_time": "2024-05-21T09:04:38.104067",
     "exception": false,
     "start_time": "2024-05-21T09:04:37.770699",
     "status": "completed"
    },
    "tags": []
   },
   "outputs": [
    {
     "data": {
      "image/png": "[encoded data removed]",
      "text/plain": [
       "<Figure size 640x480 with 1 Axes>"
      ]
     },
     "metadata": {},
     "output_type": "display_data"
    }
   ],
   "source": [
    "sns.scatterplot(x='petal_length',y='petal_width',hue='species',data=dataset)\n",
    "mp.show()"
   ]
  },
  {
   "cell_type": "code",
   "execution_count": 7,
   "id": "cc980920",
   "metadata": {
    "execution": {
     "iopub.execute_input": "2024-05-21T09:04:38.122451Z",
     "iopub.status.busy": "2024-05-21T09:04:38.121544Z",
     "iopub.status.idle": "2024-05-21T09:04:38.131789Z",
     "shell.execute_reply": "2024-05-21T09:04:38.130571Z"
    },
    "papermill": {
     "duration": 0.022106,
     "end_time": "2024-05-21T09:04:38.134290",
     "exception": false,
     "start_time": "2024-05-21T09:04:38.112184",
     "status": "completed"
    },
    "tags": []
   },
   "outputs": [
    {
     "data": {
      "text/plain": [
       "sepal_length    0\n",
       "sepal_width     0\n",
       "petal_length    0\n",
       "petal_width     0\n",
       "species         0\n",
       "dtype: int64"
      ]
     },
     "execution_count": 7,
     "metadata": {},
     "output_type": "execute_result"
    }
   ],
   "source": [
    "dataset.isnull().sum()"
   ]
  },
  {
   "cell_type": "code",
   "execution_count": 8,
   "id": "b8704d39",
   "metadata": {
    "execution": {
     "iopub.execute_input": "2024-05-21T09:04:38.152996Z",
     "iopub.status.busy": "2024-05-21T09:04:38.152383Z",
     "iopub.status.idle": "2024-05-21T09:04:38.157703Z",
     "shell.execute_reply": "2024-05-21T09:04:38.156850Z"
    },
    "papermill": {
     "duration": 0.017237,
     "end_time": "2024-05-21T09:04:38.159879",
     "exception": false,
     "start_time": "2024-05-21T09:04:38.142642",
     "status": "completed"
    },
    "tags": []
   },
   "outputs": [],
   "source": [
    "X = dataset.drop('species',axis=1)\n",
    "Y = dataset['species']"
   ]
  },
  {
   "cell_type": "code",
   "execution_count": 9,
   "id": "a54bccc6",
   "metadata": {
    "execution": {
     "iopub.execute_input": "2024-05-21T09:04:38.179389Z",
     "iopub.status.busy": "2024-05-21T09:04:38.178980Z",
     "iopub.status.idle": "2024-05-21T09:04:38.189099Z",
     "shell.execute_reply": "2024-05-21T09:04:38.187734Z"
    },
    "papermill": {
     "duration": 0.022414,
     "end_time": "2024-05-21T09:04:38.191574",
     "exception": false,
     "start_time": "2024-05-21T09:04:38.169160",
     "status": "completed"
    },
    "tags": []
   },
   "outputs": [
    {
     "name": "stdout",
     "output_type": "stream",
     "text": [
      "     sepal_length  sepal_width  petal_length  petal_width\n",
      "0             5.1          3.5           1.4          0.2\n",
      "1             4.9          3.0           1.4          0.2\n",
      "2             4.7          3.2           1.3          0.2\n",
      "3             4.6          3.1           1.5          0.2\n",
      "4             5.0          3.6           1.4          0.2\n",
      "..            ...          ...           ...          ...\n",
      "145           6.7          3.0           5.2          2.3\n",
      "146           6.3          2.5           5.0          1.9\n",
      "147           6.5          3.0           5.2          2.0\n",
      "148           6.2          3.4           5.4          2.3\n",
      "149           5.9          3.0           5.1          1.8\n",
      "\n",
      "[150 rows x 4 columns]\n"
     ]
    }
   ],
   "source": [
    "print(X)"
   ]
  },
  {
   "cell_type": "code",
   "execution_count": 10,
   "id": "63d10ac7",
   "metadata": {
    "execution": {
     "iopub.execute_input": "2024-05-21T09:04:38.210053Z",
     "iopub.status.busy": "2024-05-21T09:04:38.209656Z",
     "iopub.status.idle": "2024-05-21T09:04:38.215090Z",
     "shell.execute_reply": "2024-05-21T09:04:38.214313Z"
    },
    "papermill": {
     "duration": 0.01747,
     "end_time": "2024-05-21T09:04:38.217445",
     "exception": false,
     "start_time": "2024-05-21T09:04:38.199975",
     "status": "completed"
    },
    "tags": []
   },
   "outputs": [
    {
     "name": "stdout",
     "output_type": "stream",
     "text": [
      "0         Iris-setosa\n",
      "1         Iris-setosa\n",
      "2         Iris-setosa\n",
      "3         Iris-setosa\n",
      "4         Iris-setosa\n",
      "            ...      \n",
      "145    Iris-virginica\n",
      "146    Iris-virginica\n",
      "147    Iris-virginica\n",
      "148    Iris-virginica\n",
      "149    Iris-virginica\n",
      "Name: species, Length: 150, dtype: object\n"
     ]
    }
   ],
   "source": [
    "print(Y)"
   ]
  },
  {
   "cell_type": "code",
   "execution_count": 11,
   "id": "97afad37",
   "metadata": {
    "execution": {
     "iopub.execute_input": "2024-05-21T09:04:38.236494Z",
     "iopub.status.busy": "2024-05-21T09:04:38.235877Z",
     "iopub.status.idle": "2024-05-21T09:04:38.242546Z",
     "shell.execute_reply": "2024-05-21T09:04:38.241745Z"
    },
    "papermill": {
     "duration": 0.018631,
     "end_time": "2024-05-21T09:04:38.244650",
     "exception": false,
     "start_time": "2024-05-21T09:04:38.226019",
     "status": "completed"
    },
    "tags": []
   },
   "outputs": [],
   "source": [
    "X_train, X_test, y_train, y_test = train_test_split(X, Y, test_size=0.3, random_state=2)"
   ]
  },
  {
   "cell_type": "markdown",
   "id": "ab9e7d5a",
   "metadata": {
    "papermill": {
     "duration": 0.007953,
     "end_time": "2024-05-21T09:04:38.260947",
     "exception": false,
     "start_time": "2024-05-21T09:04:38.252994",
     "status": "completed"
    },
    "tags": []
   },
   "source": [
    "* X: Özellikler (bağımsız değişkenler) - modelin öğrenmesi gereken veriler.\n",
    "* Y: Hedef (bağımlı değişken) - modelin tahmin etmesi gereken değerler.\n",
    "* test_size=0.3: Verinin %30'unu test seti olarak ayırır. %70'i eğitim seti olarak kalır.\n",
    "* random_state=2: Rastgelelik için başlangıç değeri veri setleri oluşturur.\n",
    "* Eğitim seti (X_train ve y_train): Modelin öğrenmesi için kullanılır.\n",
    "* Test seti (X_test ve y_test): Modelin performansını değerlendirmek için kullanılır."
   ]
  },
  {
   "cell_type": "markdown",
   "id": "2537fcc8",
   "metadata": {
    "papermill": {
     "duration": 0.00793,
     "end_time": "2024-05-21T09:04:38.277202",
     "exception": false,
     "start_time": "2024-05-21T09:04:38.269272",
     "status": "completed"
    },
    "tags": []
   },
   "source": [
    "* Öklidyen Mesafesi (Euclidean Distance):\n",
    "* \n",
    "İki nokta arasındaki düz çizgi mesafesini ifade eder.\n",
    "\n",
    "Matematiksel olarak, n boyutlu uzayda iki nokta arasındaki mesafe şu şekilde hesaplanır:\n",
    "\n",
    "𝑑\n",
    "(\n",
    "𝑥\n",
    ",\n",
    "𝑦\n",
    ")\n",
    "=\n",
    "∑\n",
    "𝑖\n",
    "=\n",
    "1\n",
    "𝑛\n",
    "(\n",
    "𝑥\n",
    "𝑖\n",
    "−\n",
    "𝑦\n",
    "𝑖\n",
    ")\n",
    "2\n",
    "d(x,y)= \n",
    "i=1\n",
    "∑\n",
    "n\n",
    "​\n",
    " (x \n",
    "i\n",
    "​\n",
    " −y \n",
    "i\n",
    "​\n",
    " ) \n",
    "2\n",
    " \n",
    "​\n",
    " \n",
    "Öklidyen mesafesi, fiziksel anlamda gerçek dünyada kullanılır ve genellikle en yaygın kullanılan mesafe ölçümüdür.\n",
    "\n",
    "* Manhattan Mesafesi (Manhattan Distance):\n",
    "* \n",
    "Aynı zamanda \"City Block Distance\" veya \"L1 Norm\" olarak da bilinir.\n",
    "\n",
    "İki nokta arasındaki mesafeyi, sadece yatay ve dikey doğrular boyunca hareket ederek ölçer (şehir bloklarında yürüyormuş gibi).\n",
    "\n",
    "Matematiksel olarak, n boyutlu uzayda iki nokta arasındaki mesafe şu şekilde hesaplanır:\n",
    "\n",
    "𝑑\n",
    "(\n",
    "𝑥\n",
    ",\n",
    "𝑦\n",
    ")\n",
    "=\n",
    "∑\n",
    "𝑖\n",
    "=\n",
    "1\n",
    "𝑛\n",
    "∣\n",
    "𝑥\n",
    "𝑖\n",
    "−\n",
    "𝑦\n",
    "𝑖\n",
    "∣\n",
    "d(x,y)= \n",
    "i=1\n",
    "∑\n",
    "n\n",
    "​\n",
    " ∣x \n",
    "i\n",
    "​\n",
    " −y \n",
    "i\n",
    "​\n",
    " ∣\n",
    "Bu mesafe ölçüsü, özellikle verilerin yoğunluklu olduğu veya farklı özelliklerin farklı ölçeklerde olduğu durumlarda kullanışlıdır.\n",
    "\n",
    "* Çebişev Mesafesi (Chebyshev Distance):\n",
    "* \n",
    "Aynı zamanda \"L∞ Norm\" olarak da bilinir.\n",
    "\n",
    "İki nokta arasındaki mesafeyi, her bir boyuttaki maksimum mutlak fark olarak tanımlar.\n",
    "\n",
    "Matematiksel olarak, n boyutlu uzayda iki nokta arasındaki mesafe şu şekilde hesaplanır:\n",
    "\n",
    "𝑑\n",
    "(\n",
    "𝑥\n",
    ",\n",
    "𝑦\n",
    ")\n",
    "=\n",
    "max\n",
    "⁡\n",
    "𝑖\n",
    "(\n",
    "∣\n",
    "𝑥\n",
    "𝑖\n",
    "−\n",
    "𝑦\n",
    "𝑖\n",
    "∣\n",
    ")\n",
    "d(x,y)= \n",
    "i\n",
    "max\n",
    "​\n",
    " (∣x \n",
    "i\n",
    "​\n",
    " −y \n",
    "i\n",
    "​\n",
    " ∣)\n",
    "Bu mesafe ölçüsü, verilerin kare grid şeklinde düzenlendiği ve sadece maksimum farkın önemli olduğu durumlarda kullanışlıdır."
   ]
  },
  {
   "cell_type": "code",
   "execution_count": 12,
   "id": "5c34a9c7",
   "metadata": {
    "execution": {
     "iopub.execute_input": "2024-05-21T09:04:38.295497Z",
     "iopub.status.busy": "2024-05-21T09:04:38.294872Z",
     "iopub.status.idle": "2024-05-21T09:04:38.307179Z",
     "shell.execute_reply": "2024-05-21T09:04:38.306046Z"
    },
    "papermill": {
     "duration": 0.02437,
     "end_time": "2024-05-21T09:04:38.309710",
     "exception": false,
     "start_time": "2024-05-21T09:04:38.285340",
     "status": "completed"
    },
    "tags": []
   },
   "outputs": [
    {
     "data": {
      "text/html": [
       "<style>#sk-container-id-1 {color: black;background-color: white;}#sk-container-id-1 pre{padding: 0;}#sk-container-id-1 div.sk-toggleable {background-color: white;}#sk-container-id-1 label.sk-toggleable__label {cursor: pointer;display: block;width: 100%;margin-bottom: 0;padding: 0.3em;box-sizing: border-box;text-align: center;}#sk-container-id-1 label.sk-toggleable__label-arrow:before {content: \"▸\";float: left;margin-right: 0.25em;color: #696969;}#sk-container-id-1 label.sk-toggleable__label-arrow:hover:before {color: black;}#sk-container-id-1 div.sk-estimator:hover label.sk-toggleable__label-arrow:before {color: black;}#sk-container-id-1 div.sk-toggleable__content {max-height: 0;max-width: 0;overflow: hidden;text-align: left;background-color: #f0f8ff;}#sk-container-id-1 div.sk-toggleable__content pre {margin: 0.2em;color: black;border-radius: 0.25em;background-color: #f0f8ff;}#sk-container-id-1 input.sk-toggleable__control:checked~div.sk-toggleable__content {max-height: 200px;max-width: 100%;overflow: auto;}#sk-container-id-1 input.sk-toggleable__control:checked~label.sk-toggleable__label-arrow:before {content: \"▾\";}#sk-container-id-1 div.sk-estimator input.sk-toggleable__control:checked~label.sk-toggleable__label {background-color: #d4ebff;}#sk-container-id-1 div.sk-label input.sk-toggleable__control:checked~label.sk-toggleable__label {background-color: #d4ebff;}#sk-container-id-1 input.sk-hidden--visually {border: 0;clip: rect(1px 1px 1px 1px);clip: rect(1px, 1px, 1px, 1px);height: 1px;margin: -1px;overflow: hidden;padding: 0;position: absolute;width: 1px;}#sk-container-id-1 div.sk-estimator {font-family: monospace;background-color: #f0f8ff;border: 1px dotted black;border-radius: 0.25em;box-sizing: border-box;margin-bottom: 0.5em;}#sk-container-id-1 div.sk-estimator:hover {background-color: #d4ebff;}#sk-container-id-1 div.sk-parallel-item::after {content: \"\";width: 100%;border-bottom: 1px solid gray;flex-grow: 1;}#sk-container-id-1 div.sk-label:hover label.sk-toggleable__label {background-color: #d4ebff;}#sk-container-id-1 div.sk-serial::before {content: \"\";position: absolute;border-left: 1px solid gray;box-sizing: border-box;top: 0;bottom: 0;left: 50%;z-index: 0;}#sk-container-id-1 div.sk-serial {display: flex;flex-direction: column;align-items: center;background-color: white;padding-right: 0.2em;padding-left: 0.2em;position: relative;}#sk-container-id-1 div.sk-item {position: relative;z-index: 1;}#sk-container-id-1 div.sk-parallel {display: flex;align-items: stretch;justify-content: center;background-color: white;position: relative;}#sk-container-id-1 div.sk-item::before, #sk-container-id-1 div.sk-parallel-item::before {content: \"\";position: absolute;border-left: 1px solid gray;box-sizing: border-box;top: 0;bottom: 0;left: 50%;z-index: -1;}#sk-container-id-1 div.sk-parallel-item {display: flex;flex-direction: column;z-index: 1;position: relative;background-color: white;}#sk-container-id-1 div.sk-parallel-item:first-child::after {align-self: flex-end;width: 50%;}#sk-container-id-1 div.sk-parallel-item:last-child::after {align-self: flex-start;width: 50%;}#sk-container-id-1 div.sk-parallel-item:only-child::after {width: 0;}#sk-container-id-1 div.sk-dashed-wrapped {border: 1px dashed gray;margin: 0 0.4em 0.5em 0.4em;box-sizing: border-box;padding-bottom: 0.4em;background-color: white;}#sk-container-id-1 div.sk-label label {font-family: monospace;font-weight: bold;display: inline-block;line-height: 1.2em;}#sk-container-id-1 div.sk-label-container {text-align: center;}#sk-container-id-1 div.sk-container {/* jupyter's `normalize.less` sets `[hidden] { display: none; }` but bootstrap.min.css set `[hidden] { display: none !important; }` so we also need the `!important` here to be able to override the default hidden behavior on the sphinx rendered scikit-learn.org. See: https://github.com/scikit-learn/scikit-learn/issues/21755 */display: inline-block !important;position: relative;}#sk-container-id-1 div.sk-text-repr-fallback {display: none;}</style><div id=\"sk-container-id-1\" class=\"sk-top-container\"><div class=\"sk-text-repr-fallback\"><pre>KNeighborsClassifier(metric=&#x27;euclidean&#x27;, n_neighbors=3)</pre><b>In a Jupyter environment, please rerun this cell to show the HTML representation or trust the notebook. <br />On GitHub, the HTML representation is unable to render, please try loading this page with nbviewer.org.</b></div><div class=\"sk-container\" hidden><div class=\"sk-item\"><div class=\"sk-estimator sk-toggleable\"><input class=\"sk-toggleable__control sk-hidden--visually\" id=\"sk-estimator-id-1\" type=\"checkbox\" checked><label for=\"sk-estimator-id-1\" class=\"sk-toggleable__label sk-toggleable__label-arrow\">KNeighborsClassifier</label><div class=\"sk-toggleable__content\"><pre>KNeighborsClassifier(metric=&#x27;euclidean&#x27;, n_neighbors=3)</pre></div></div></div></div></div>"
      ],
      "text/plain": [
       "KNeighborsClassifier(metric='euclidean', n_neighbors=3)"
      ]
     },
     "execution_count": 12,
     "metadata": {},
     "output_type": "execute_result"
    }
   ],
   "source": [
    "knn_model = KNeighborsClassifier(n_neighbors=3,metric = \"euclidean\")\n",
    "knn_model.fit(X_train,y_train)"
   ]
  },
  {
   "cell_type": "code",
   "execution_count": 13,
   "id": "b11decbf",
   "metadata": {
    "execution": {
     "iopub.execute_input": "2024-05-21T09:04:38.329602Z",
     "iopub.status.busy": "2024-05-21T09:04:38.329211Z",
     "iopub.status.idle": "2024-05-21T09:04:38.346074Z",
     "shell.execute_reply": "2024-05-21T09:04:38.345020Z"
    },
    "papermill": {
     "duration": 0.029051,
     "end_time": "2024-05-21T09:04:38.348036",
     "exception": false,
     "start_time": "2024-05-21T09:04:38.318985",
     "status": "completed"
    },
    "tags": []
   },
   "outputs": [
    {
     "data": {
      "text/plain": [
       "94.28571428571428"
      ]
     },
     "execution_count": 13,
     "metadata": {},
     "output_type": "execute_result"
    }
   ],
   "source": [
    "knn_model.score(X_train,y_train)*100\n"
   ]
  },
  {
   "cell_type": "code",
   "execution_count": 14,
   "id": "191a6685",
   "metadata": {
    "execution": {
     "iopub.execute_input": "2024-05-21T09:04:38.367007Z",
     "iopub.status.busy": "2024-05-21T09:04:38.366629Z",
     "iopub.status.idle": "2024-05-21T09:04:38.378405Z",
     "shell.execute_reply": "2024-05-21T09:04:38.377403Z"
    },
    "papermill": {
     "duration": 0.023807,
     "end_time": "2024-05-21T09:04:38.380418",
     "exception": false,
     "start_time": "2024-05-21T09:04:38.356611",
     "status": "completed"
    },
    "tags": []
   },
   "outputs": [
    {
     "data": {
      "text/plain": [
       "100.0"
      ]
     },
     "execution_count": 14,
     "metadata": {},
     "output_type": "execute_result"
    }
   ],
   "source": [
    "knn_model.score(X_test,y_test)*100\n"
   ]
  },
  {
   "cell_type": "markdown",
   "id": "03b381a1",
   "metadata": {
    "papermill": {
     "duration": 0.008405,
     "end_time": "2024-05-21T09:04:38.397656",
     "exception": false,
     "start_time": "2024-05-21T09:04:38.389251",
     "status": "completed"
    },
    "tags": []
   },
   "source": [
    "# Tablo"
   ]
  },
  {
   "cell_type": "code",
   "execution_count": 15,
   "id": "032ab1bc",
   "metadata": {
    "execution": {
     "iopub.execute_input": "2024-05-21T09:04:38.416996Z",
     "iopub.status.busy": "2024-05-21T09:04:38.416329Z",
     "iopub.status.idle": "2024-05-21T09:04:38.426512Z",
     "shell.execute_reply": "2024-05-21T09:04:38.425278Z"
    },
    "papermill": {
     "duration": 0.022652,
     "end_time": "2024-05-21T09:04:38.429010",
     "exception": false,
     "start_time": "2024-05-21T09:04:38.406358",
     "status": "completed"
    },
    "tags": []
   },
   "outputs": [],
   "source": [
    "prediction = knn_model.predict(X_test)\n"
   ]
  },
  {
   "cell_type": "code",
   "execution_count": 16,
   "id": "bd6c9b7d",
   "metadata": {
    "execution": {
     "iopub.execute_input": "2024-05-21T09:04:38.448884Z",
     "iopub.status.busy": "2024-05-21T09:04:38.448452Z",
     "iopub.status.idle": "2024-05-21T09:04:38.461385Z",
     "shell.execute_reply": "2024-05-21T09:04:38.460540Z"
    },
    "papermill": {
     "duration": 0.025342,
     "end_time": "2024-05-21T09:04:38.463300",
     "exception": false,
     "start_time": "2024-05-21T09:04:38.437958",
     "status": "completed"
    },
    "tags": []
   },
   "outputs": [
    {
     "data": {
      "text/html": [
       "<div>\n",
       "<style scoped>\n",
       "    .dataframe tbody tr th:only-of-type {\n",
       "        vertical-align: middle;\n",
       "    }\n",
       "\n",
       "    .dataframe tbody tr th {\n",
       "        vertical-align: top;\n",
       "    }\n",
       "\n",
       "    .dataframe thead th {\n",
       "        text-align: right;\n",
       "    }\n",
       "</style>\n",
       "<table border=\"1\" class=\"dataframe\">\n",
       "  <thead>\n",
       "    <tr style=\"text-align: right;\">\n",
       "      <th></th>\n",
       "      <th>Actual</th>\n",
       "      <th>Predicted</th>\n",
       "    </tr>\n",
       "  </thead>\n",
       "  <tbody>\n",
       "    <tr>\n",
       "      <th>6</th>\n",
       "      <td>Iris-setosa</td>\n",
       "      <td>Iris-setosa</td>\n",
       "    </tr>\n",
       "    <tr>\n",
       "      <th>3</th>\n",
       "      <td>Iris-setosa</td>\n",
       "      <td>Iris-setosa</td>\n",
       "    </tr>\n",
       "    <tr>\n",
       "      <th>113</th>\n",
       "      <td>Iris-virginica</td>\n",
       "      <td>Iris-virginica</td>\n",
       "    </tr>\n",
       "    <tr>\n",
       "      <th>12</th>\n",
       "      <td>Iris-setosa</td>\n",
       "      <td>Iris-setosa</td>\n",
       "    </tr>\n",
       "    <tr>\n",
       "      <th>24</th>\n",
       "      <td>Iris-setosa</td>\n",
       "      <td>Iris-setosa</td>\n",
       "    </tr>\n",
       "    <tr>\n",
       "      <th>129</th>\n",
       "      <td>Iris-virginica</td>\n",
       "      <td>Iris-virginica</td>\n",
       "    </tr>\n",
       "    <tr>\n",
       "      <th>25</th>\n",
       "      <td>Iris-setosa</td>\n",
       "      <td>Iris-setosa</td>\n",
       "    </tr>\n",
       "    <tr>\n",
       "      <th>108</th>\n",
       "      <td>Iris-virginica</td>\n",
       "      <td>Iris-virginica</td>\n",
       "    </tr>\n",
       "    <tr>\n",
       "      <th>128</th>\n",
       "      <td>Iris-virginica</td>\n",
       "      <td>Iris-virginica</td>\n",
       "    </tr>\n",
       "    <tr>\n",
       "      <th>45</th>\n",
       "      <td>Iris-setosa</td>\n",
       "      <td>Iris-setosa</td>\n",
       "    </tr>\n",
       "    <tr>\n",
       "      <th>48</th>\n",
       "      <td>Iris-setosa</td>\n",
       "      <td>Iris-setosa</td>\n",
       "    </tr>\n",
       "    <tr>\n",
       "      <th>42</th>\n",
       "      <td>Iris-setosa</td>\n",
       "      <td>Iris-setosa</td>\n",
       "    </tr>\n",
       "    <tr>\n",
       "      <th>35</th>\n",
       "      <td>Iris-setosa</td>\n",
       "      <td>Iris-setosa</td>\n",
       "    </tr>\n",
       "    <tr>\n",
       "      <th>5</th>\n",
       "      <td>Iris-setosa</td>\n",
       "      <td>Iris-setosa</td>\n",
       "    </tr>\n",
       "    <tr>\n",
       "      <th>85</th>\n",
       "      <td>Iris-versicolor</td>\n",
       "      <td>Iris-versicolor</td>\n",
       "    </tr>\n",
       "    <tr>\n",
       "      <th>54</th>\n",
       "      <td>Iris-versicolor</td>\n",
       "      <td>Iris-versicolor</td>\n",
       "    </tr>\n",
       "    <tr>\n",
       "      <th>41</th>\n",
       "      <td>Iris-setosa</td>\n",
       "      <td>Iris-setosa</td>\n",
       "    </tr>\n",
       "    <tr>\n",
       "      <th>96</th>\n",
       "      <td>Iris-versicolor</td>\n",
       "      <td>Iris-versicolor</td>\n",
       "    </tr>\n",
       "    <tr>\n",
       "      <th>144</th>\n",
       "      <td>Iris-virginica</td>\n",
       "      <td>Iris-virginica</td>\n",
       "    </tr>\n",
       "    <tr>\n",
       "      <th>89</th>\n",
       "      <td>Iris-versicolor</td>\n",
       "      <td>Iris-versicolor</td>\n",
       "    </tr>\n",
       "    <tr>\n",
       "      <th>77</th>\n",
       "      <td>Iris-versicolor</td>\n",
       "      <td>Iris-versicolor</td>\n",
       "    </tr>\n",
       "    <tr>\n",
       "      <th>74</th>\n",
       "      <td>Iris-versicolor</td>\n",
       "      <td>Iris-versicolor</td>\n",
       "    </tr>\n",
       "    <tr>\n",
       "      <th>115</th>\n",
       "      <td>Iris-virginica</td>\n",
       "      <td>Iris-virginica</td>\n",
       "    </tr>\n",
       "    <tr>\n",
       "      <th>94</th>\n",
       "      <td>Iris-versicolor</td>\n",
       "      <td>Iris-versicolor</td>\n",
       "    </tr>\n",
       "    <tr>\n",
       "      <th>87</th>\n",
       "      <td>Iris-versicolor</td>\n",
       "      <td>Iris-versicolor</td>\n",
       "    </tr>\n",
       "    <tr>\n",
       "      <th>29</th>\n",
       "      <td>Iris-setosa</td>\n",
       "      <td>Iris-setosa</td>\n",
       "    </tr>\n",
       "    <tr>\n",
       "      <th>2</th>\n",
       "      <td>Iris-setosa</td>\n",
       "      <td>Iris-setosa</td>\n",
       "    </tr>\n",
       "    <tr>\n",
       "      <th>127</th>\n",
       "      <td>Iris-virginica</td>\n",
       "      <td>Iris-virginica</td>\n",
       "    </tr>\n",
       "    <tr>\n",
       "      <th>44</th>\n",
       "      <td>Iris-setosa</td>\n",
       "      <td>Iris-setosa</td>\n",
       "    </tr>\n",
       "    <tr>\n",
       "      <th>125</th>\n",
       "      <td>Iris-virginica</td>\n",
       "      <td>Iris-virginica</td>\n",
       "    </tr>\n",
       "    <tr>\n",
       "      <th>126</th>\n",
       "      <td>Iris-virginica</td>\n",
       "      <td>Iris-virginica</td>\n",
       "    </tr>\n",
       "    <tr>\n",
       "      <th>23</th>\n",
       "      <td>Iris-setosa</td>\n",
       "      <td>Iris-setosa</td>\n",
       "    </tr>\n",
       "    <tr>\n",
       "      <th>64</th>\n",
       "      <td>Iris-versicolor</td>\n",
       "      <td>Iris-versicolor</td>\n",
       "    </tr>\n",
       "    <tr>\n",
       "      <th>117</th>\n",
       "      <td>Iris-virginica</td>\n",
       "      <td>Iris-virginica</td>\n",
       "    </tr>\n",
       "    <tr>\n",
       "      <th>84</th>\n",
       "      <td>Iris-versicolor</td>\n",
       "      <td>Iris-versicolor</td>\n",
       "    </tr>\n",
       "    <tr>\n",
       "      <th>14</th>\n",
       "      <td>Iris-setosa</td>\n",
       "      <td>Iris-setosa</td>\n",
       "    </tr>\n",
       "    <tr>\n",
       "      <th>132</th>\n",
       "      <td>Iris-virginica</td>\n",
       "      <td>Iris-virginica</td>\n",
       "    </tr>\n",
       "    <tr>\n",
       "      <th>91</th>\n",
       "      <td>Iris-versicolor</td>\n",
       "      <td>Iris-versicolor</td>\n",
       "    </tr>\n",
       "    <tr>\n",
       "      <th>53</th>\n",
       "      <td>Iris-versicolor</td>\n",
       "      <td>Iris-versicolor</td>\n",
       "    </tr>\n",
       "    <tr>\n",
       "      <th>141</th>\n",
       "      <td>Iris-virginica</td>\n",
       "      <td>Iris-virginica</td>\n",
       "    </tr>\n",
       "    <tr>\n",
       "      <th>78</th>\n",
       "      <td>Iris-versicolor</td>\n",
       "      <td>Iris-versicolor</td>\n",
       "    </tr>\n",
       "    <tr>\n",
       "      <th>97</th>\n",
       "      <td>Iris-versicolor</td>\n",
       "      <td>Iris-versicolor</td>\n",
       "    </tr>\n",
       "    <tr>\n",
       "      <th>143</th>\n",
       "      <td>Iris-virginica</td>\n",
       "      <td>Iris-virginica</td>\n",
       "    </tr>\n",
       "    <tr>\n",
       "      <th>93</th>\n",
       "      <td>Iris-versicolor</td>\n",
       "      <td>Iris-versicolor</td>\n",
       "    </tr>\n",
       "    <tr>\n",
       "      <th>11</th>\n",
       "      <td>Iris-setosa</td>\n",
       "      <td>Iris-setosa</td>\n",
       "    </tr>\n",
       "  </tbody>\n",
       "</table>\n",
       "</div>"
      ],
      "text/plain": [
       "              Actual        Predicted\n",
       "6        Iris-setosa      Iris-setosa\n",
       "3        Iris-setosa      Iris-setosa\n",
       "113   Iris-virginica   Iris-virginica\n",
       "12       Iris-setosa      Iris-setosa\n",
       "24       Iris-setosa      Iris-setosa\n",
       "129   Iris-virginica   Iris-virginica\n",
       "25       Iris-setosa      Iris-setosa\n",
       "108   Iris-virginica   Iris-virginica\n",
       "128   Iris-virginica   Iris-virginica\n",
       "45       Iris-setosa      Iris-setosa\n",
       "48       Iris-setosa      Iris-setosa\n",
       "42       Iris-setosa      Iris-setosa\n",
       "35       Iris-setosa      Iris-setosa\n",
       "5        Iris-setosa      Iris-setosa\n",
       "85   Iris-versicolor  Iris-versicolor\n",
       "54   Iris-versicolor  Iris-versicolor\n",
       "41       Iris-setosa      Iris-setosa\n",
       "96   Iris-versicolor  Iris-versicolor\n",
       "144   Iris-virginica   Iris-virginica\n",
       "89   Iris-versicolor  Iris-versicolor\n",
       "77   Iris-versicolor  Iris-versicolor\n",
       "74   Iris-versicolor  Iris-versicolor\n",
       "115   Iris-virginica   Iris-virginica\n",
       "94   Iris-versicolor  Iris-versicolor\n",
       "87   Iris-versicolor  Iris-versicolor\n",
       "29       Iris-setosa      Iris-setosa\n",
       "2        Iris-setosa      Iris-setosa\n",
       "127   Iris-virginica   Iris-virginica\n",
       "44       Iris-setosa      Iris-setosa\n",
       "125   Iris-virginica   Iris-virginica\n",
       "126   Iris-virginica   Iris-virginica\n",
       "23       Iris-setosa      Iris-setosa\n",
       "64   Iris-versicolor  Iris-versicolor\n",
       "117   Iris-virginica   Iris-virginica\n",
       "84   Iris-versicolor  Iris-versicolor\n",
       "14       Iris-setosa      Iris-setosa\n",
       "132   Iris-virginica   Iris-virginica\n",
       "91   Iris-versicolor  Iris-versicolor\n",
       "53   Iris-versicolor  Iris-versicolor\n",
       "141   Iris-virginica   Iris-virginica\n",
       "78   Iris-versicolor  Iris-versicolor\n",
       "97   Iris-versicolor  Iris-versicolor\n",
       "143   Iris-virginica   Iris-virginica\n",
       "93   Iris-versicolor  Iris-versicolor\n",
       "11       Iris-setosa      Iris-setosa"
      ]
     },
     "execution_count": 16,
     "metadata": {},
     "output_type": "execute_result"
    }
   ],
   "source": [
    "cross_check = pd.DataFrame({'Actual' : y_test, 'Predicted': prediction})\n",
    "cross_check"
   ]
  },
  {
   "cell_type": "markdown",
   "id": "4d8e3003",
   "metadata": {
    "papermill": {
     "duration": 0.00887,
     "end_time": "2024-05-21T09:04:38.481405",
     "exception": false,
     "start_time": "2024-05-21T09:04:38.472535",
     "status": "completed"
    },
    "tags": []
   },
   "source": []
  },
  {
   "cell_type": "code",
   "execution_count": 17,
   "id": "b56be879",
   "metadata": {
    "execution": {
     "iopub.execute_input": "2024-05-21T09:04:38.501930Z",
     "iopub.status.busy": "2024-05-21T09:04:38.501287Z",
     "iopub.status.idle": "2024-05-21T09:04:38.855297Z",
     "shell.execute_reply": "2024-05-21T09:04:38.853997Z"
    },
    "papermill": {
     "duration": 0.366898,
     "end_time": "2024-05-21T09:04:38.857635",
     "exception": false,
     "start_time": "2024-05-21T09:04:38.490737",
     "status": "completed"
    },
    "tags": []
   },
   "outputs": [
    {
     "data": {
      "text/plain": [
       "Text(158.22222222222223, 0.5, 'Actual')"
      ]
     },
     "execution_count": 17,
     "metadata": {},
     "output_type": "execute_result"
    },
    {
     "data": {
      "image/png": "[encoded data removed]",
      "text/plain": [
       "<Figure size 1500x500 with 2 Axes>"
      ]
     },
     "metadata": {},
     "output_type": "display_data"
    }
   ],
   "source": [
    "from sklearn.metrics import confusion_matrix\n",
    "predict = knn_model.predict(X_test)\n",
    "cm = confusion_matrix(y_test,prediction)\n",
    "mp.figure(figsize=(15,5))\n",
    "sns.heatmap(cm,annot=True)\n",
    "mp.xlabel('Predicted')\n",
    "mp.ylabel('Actual')"
   ]
  },
  {
   "cell_type": "markdown",
   "id": "cf31bc1c",
   "metadata": {
    "papermill": {
     "duration": 0.009637,
     "end_time": "2024-05-21T09:04:38.877349",
     "exception": false,
     "start_time": "2024-05-21T09:04:38.867712",
     "status": "completed"
    },
    "tags": []
   },
   "source": [
    "# Toplu"
   ]
  },
  {
   "cell_type": "code",
   "execution_count": 18,
   "id": "f405212a",
   "metadata": {
    "execution": {
     "iopub.execute_input": "2024-05-21T09:04:38.899025Z",
     "iopub.status.busy": "2024-05-21T09:04:38.898112Z",
     "iopub.status.idle": "2024-05-21T09:04:39.410662Z",
     "shell.execute_reply": "2024-05-21T09:04:39.409727Z"
    },
    "papermill": {
     "duration": 0.525698,
     "end_time": "2024-05-21T09:04:39.412878",
     "exception": false,
     "start_time": "2024-05-21T09:04:38.887180",
     "status": "completed"
    },
    "tags": []
   },
   "outputs": [
    {
     "name": "stderr",
     "output_type": "stream",
     "text": [
      "/opt/conda/lib/python3.10/site-packages/seaborn/_oldcore.py:1119: FutureWarning: use_inf_as_na option is deprecated and will be removed in a future version. Convert inf values to NaN before operating instead.\n",
      "  with pd.option_context('mode.use_inf_as_na', True):\n",
      "/opt/conda/lib/python3.10/site-packages/seaborn/_oldcore.py:1119: FutureWarning: use_inf_as_na option is deprecated and will be removed in a future version. Convert inf values to NaN before operating instead.\n",
      "  with pd.option_context('mode.use_inf_as_na', True):\n",
      "/opt/conda/lib/python3.10/site-packages/seaborn/_oldcore.py:1075: FutureWarning: When grouping with a length-1 list-like, you will need to pass a length-1 tuple to get_group in a future version of pandas. Pass `(name,)` instead of `name` to silence this warning.\n",
      "  data_subset = grouped_data.get_group(pd_key)\n",
      "/opt/conda/lib/python3.10/site-packages/seaborn/_oldcore.py:1075: FutureWarning: When grouping with a length-1 list-like, you will need to pass a length-1 tuple to get_group in a future version of pandas. Pass `(name,)` instead of `name` to silence this warning.\n",
      "  data_subset = grouped_data.get_group(pd_key)\n",
      "/opt/conda/lib/python3.10/site-packages/seaborn/_oldcore.py:1075: FutureWarning: When grouping with a length-1 list-like, you will need to pass a length-1 tuple to get_group in a future version of pandas. Pass `(name,)` instead of `name` to silence this warning.\n",
      "  data_subset = grouped_data.get_group(pd_key)\n"
     ]
    },
    {
     "data": {
      "image/png": "[encoded data removed]",
      "text/plain": [
       "<Figure size 1400x800 with 1 Axes>"
      ]
     },
     "metadata": {},
     "output_type": "display_data"
    }
   ],
   "source": [
    "k_values = [1,5 ,7,11,15]\n",
    "distance_metrics = ['euclidean', 'manhattan', 'chebyshev']\n",
    "\n",
    "results = []\n",
    "\n",
    "for metric in distance_metrics:\n",
    "    for k in k_values:\n",
    "        knn = KNeighborsClassifier(n_neighbors=k, metric=metric)\n",
    "        knn.fit(X_train, y_train)\n",
    "        y_pred = knn.predict(X_test)\n",
    "        accuracy = accuracy_score(y_test, y_pred)\n",
    "        results.append((k, metric, accuracy))\n",
    "\n",
    "results_df = pd.DataFrame(results, columns=['k', 'distance_metric', 'accuracy'])\n",
    "\n",
    "mp.figure(figsize=(14, 8))\n",
    "sns.lineplot(data=results_df, x='k', y='accuracy', hue='distance_metric', marker='o')\n",
    "mp.title('K Değerleri ve Mesafe Ölçümlerine Göre Doğruluk')\n",
    "mp.xlabel('k Değeri')\n",
    "mp.ylabel('Doğruluk')\n",
    "mp.legend(title='Mesafe Ölçümü')\n",
    "mp.show()"
   ]
  },
  {
   "cell_type": "code",
   "execution_count": null,
   "id": "d7e4e597",
   "metadata": {
    "papermill": {
     "duration": 0.012239,
     "end_time": "2024-05-21T09:04:39.436588",
     "exception": false,
     "start_time": "2024-05-21T09:04:39.424349",
     "status": "completed"
    },
    "tags": []
   },
   "outputs": [],
   "source": []
  }
 ],
 "metadata": {
  "kaggle": {
   "accelerator": "none",
   "dataSources": [
    {
     "datasetId": 17860,
     "sourceId": 23404,
     "sourceType": "datasetVersion"
    }
   ],
   "dockerImageVersionId": 30698,
   "isGpuEnabled": false,
   "isInternetEnabled": false,
   "language": "python",
   "sourceType": "notebook"
  },
  "kernelspec": {
   "display_name": "Python 3",
   "language": "python",
   "name": "python3"
  },
  "language_info": {
   "codemirror_mode": {
    "name": "ipython",
    "version": 3
   },
   "file_extension": ".py",
   "mimetype": "text/x-python",
   "name": "python",
   "nbconvert_exporter": "python",
   "pygments_lexer": "ipython3",
   "version": "3.10.13"
  },
  "papermill": {
   "default_parameters": {},
   "duration": 8.418153,
   "end_time": "2024-05-21T09:04:40.068351",
   "environment_variables": {},
   "exception": null,
   "input_path": "__notebook__.ipynb",
   "output_path": "__notebook__.ipynb",
   "parameters": {},
   "start_time": "2024-05-21T09:04:31.650198",
   "version": "2.5.0"
  }
 },
 "nbformat": 4,
 "nbformat_minor": 5
}
